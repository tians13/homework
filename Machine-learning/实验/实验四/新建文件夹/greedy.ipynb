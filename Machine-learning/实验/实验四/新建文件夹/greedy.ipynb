{
 "cells": [
  {
   "cell_type": "code",
   "execution_count": 13,
   "metadata": {},
   "outputs": [],
   "source": [
    "import numpy as np\n",
    "import pandas as pd\n",
    "from collections import Counter\n"
   ]
  },
  {
   "cell_type": "markdown",
   "metadata": {},
   "source": [
    "sex: 性别 - 女性, 男性。  \n",
    "age: 年龄 - 连续变量。  \n",
    "workclass: 工作类别 - 私营部门, 自雇非公司, 自雇公司, 联邦政府, 地方政府, 州政府, 无薪, 从未工作。  \n",
    "fnlwgt: 最终权重 - 连续变量。  \n",
    "education: 教育程度 - 学士, 些许大学教育, 11年级, 高中毕业, 专业学校, 函授大专, 技术学院, 9年级, 7-8年级, 12年级, 硕士, 1-4年级, 10年级, 博士, 5-6年级, 幼儿园。  \n",
    "education-num: 教育编号 - 连续变量。  \n",
    "marital-status: 婚姻状况 - 已婚公民配偶, 离婚, 未婚, 分居, 寡居, 配偶缺席, 军婚。\n",
    "occupation: 职业 - 技术支持, 手工艺维修, 其他服务, 销售, 高管管理, 专业领域, 清洁工, 机械操作检查, 行政文书, 农业/渔业, 运输搬运, 私人家庭服务, 保护服务, 武装部队。  \n",
    "relationship: 家庭关系 - 妻子, 子女, 丈夫, 非家庭成员, 其他亲属, 未婚。  \n",
    "race: 种族 - 白人, 亚太岛民, 美国印第安人/爱斯基摩人, 其他, 黑人。  \n",
    "capital-gain: 资本收益 - 连续变量。  \n",
    "capital-loss: 资本损失 - 连续变量。  \n",
    "hours-per-week: 每周工作小时数 - 连续变量。  \n",
    "native-country: 原籍国 - 美国, 柬埔寨, 英国, 波多黎各, 加拿大, 德国, 美国海外属地(关岛-美属维尔金群岛等), 印度, 日本, 希腊, 南部, 中国, 古巴, 伊朗, 洪都拉斯, 菲律宾, 意大利, 波兰, 牙买加, 越南, 墨西哥, 葡萄牙, 爱尔兰, 法国, 多米尼加共和国, 老挝, 厄瓜多尔, 台湾, 海地, 哥伦比亚, 匈牙利, 危地马拉, 尼加拉瓜, 苏格兰, 泰国, 南斯拉夫, 萨尔瓦多, 特立尼达和多巴哥, 秘鲁, 香港, 荷兰。  \n",
    "income: 收入是否大于50K。  "
   ]
  },
  {
   "cell_type": "code",
   "execution_count": 14,
   "metadata": {},
   "outputs": [],
   "source": [
    "headers = [\n",
    "    \"age\",\n",
    "    \"workclass\",\n",
    "    \"fnlwgt\",\n",
    "    \"education\",\n",
    "    \"education-num\",\n",
    "    \"marital-status\",\n",
    "    \"occupation\",\n",
    "    \"relationship\",\n",
    "    \"race\",\n",
    "    \"sex\",\n",
    "    \"capital-gain\",\n",
    "    \"capital-loss\",\n",
    "    \"hours-per-week\",\n",
    "    \"native-country\",\n",
    "    'income'\n",
    "]\n",
    "train_data = pd.read_csv('adult.data',header=None)\n",
    "test_data = pd.read_csv('adult.test',header=None)\n",
    "train_data.columns = headers\n",
    "test_data.columns = headers\n",
    "income_map = {\n",
    "    ' >50K': 1,\n",
    "    ' <=50K': 0\n",
    "}\n",
    "train_data['income'] = train_data['income'].map(income_map)\n",
    "income_map = {\n",
    "   ' >50K.': 1,\n",
    "   ' <=50K.': 0\n",
    "}\n",
    "test_data['income'] = test_data['income'].map(income_map)\n",
    "# 筛选出类型为 object 的列\n",
    "object_columns = train_data.select_dtypes(include=['object']).columns\n",
    "# 对这些列应用独热编码\n",
    "train_data = pd.get_dummies(train_data, columns=object_columns)\n",
    "test_data = pd.get_dummies(test_data,columns=object_columns)\n",
    "new_column = pd.Series(False, index=test_data.index)\n",
    "new_column.name = 'native-country_ Holand-Netherlands'\n",
    "test_data.insert(82,new_column.name,new_column)\n",
    "X_train,y_train = train_data.drop(columns='income').to_numpy().astype(np.float64),train_data['income'].to_numpy().astype(np.int64)\n",
    "X_test,y_test = test_data.drop(columns='income').to_numpy().astype(np.float64),test_data['income'].to_numpy().astype(np.int64)"
   ]
  },
  {
   "cell_type": "code",
   "execution_count": 15,
   "metadata": {},
   "outputs": [
    {
     "name": "stdout",
     "output_type": "stream",
     "text": [
      "<class 'pandas.core.frame.DataFrame'>\n",
      "RangeIndex: 32561 entries, 0 to 32560\n",
      "Columns: 109 entries, age to native-country_ Yugoslavia\n",
      "dtypes: bool(102), int64(7)\n",
      "memory usage: 4.9 MB\n"
     ]
    }
   ],
   "source": [
    "train_data.info()"
   ]
  },
  {
   "cell_type": "code",
   "execution_count": 16,
   "metadata": {},
   "outputs": [],
   "source": [
    "class Node:\n",
    "    def __init__(self, feature=None, threshold=None, left=None, right=None, *, value=None):\n",
    "        self.feature = feature\n",
    "        self.threshold = threshold\n",
    "        self.left = left\n",
    "        self.right = right\n",
    "        self.value = value\n",
    "\n",
    "    def is_leaf_node(self):\n",
    "        return self.value is not None\n",
    "\n",
    "class DecisionTree:\n",
    "    def __init__(self, min_samples_split=2, max_depth=100, n_features=None):\n",
    "        self.min_samples_split = min_samples_split\n",
    "        self.max_depth = max_depth\n",
    "        self.n_features = n_features\n",
    "        self.root = None\n",
    "\n",
    "    def _traverse_tree(self, x, node):\n",
    "        if node.is_leaf_node():\n",
    "            return node.value\n",
    "        if x[node.feature] <= node.threshold:\n",
    "            return self._traverse_tree(x, node.left)\n",
    "        return self._traverse_tree(x, node.right)\n",
    "    def fit(self, X, y):\n",
    "        self.n_features = X.shape[1] if not self.n_features else min(X.shape[1], self.n_features)\n",
    "        self.root = self._grow_tree(X, y)\n",
    "\n",
    "    def predict(self, X):\n",
    "        return [self._traverse_tree(x, self.root) for x in X]\n",
    "\n",
    "    def _grow_tree(self, X, y, depth=0):\n",
    "        n_samples, n_features = X.shape\n",
    "        n_labels = len(set(y))\n",
    "        if (depth >= self.max_depth or n_labels == 1 or n_samples < self.min_samples_split):\n",
    "            leaf_value = self._most_common_label(y)\n",
    "            return Node(value=leaf_value)\n",
    "        feature_idxs = np.random.choice(n_features, self.n_features, replace=False)\n",
    "        best_feature, best_threshold = self._best_split(X, y, feature_idxs)\n",
    "        left_idxs, right_idxs = self._split(X[:, best_feature], best_threshold)\n",
    "        left = self._grow_tree(X[left_idxs, :], y[left_idxs], depth + 1)\n",
    "        right = self._grow_tree(X[right_idxs, :], y[right_idxs], depth + 1)\n",
    "        return Node(best_feature, best_threshold, left, right)\n",
    "\n",
    "    def _best_split(self, X, y, feature_idxs):\n",
    "        best_gain = -1\n",
    "        split_idx, split_threshold = None, None\n",
    "        for idx in feature_idxs:\n",
    "            X_column = X[:, idx]\n",
    "            thresholds = np.unique(X_column)\n",
    "            for threshold in thresholds:\n",
    "                gain = self._information_gain(y, X_column, threshold)\n",
    "                if gain > best_gain:\n",
    "                    best_gain = gain\n",
    "                    split_idx = idx\n",
    "                    split_threshold = threshold\n",
    "        return split_idx, split_threshold\n",
    "\n",
    "    def _information_gain(self, y, X_column, threshold):\n",
    "        parent_entropy = self._entropy(y)\n",
    "        left_idxs, right_idxs = self._split(X_column, threshold)\n",
    "        if len(left_idxs) == 0 or len(right_idxs) == 0:\n",
    "            return 0\n",
    "        n = len(y)\n",
    "        n_l, n_r = len(left_idxs), len(right_idxs)\n",
    "        e_l, e_r = self._entropy(y[left_idxs]), self._entropy(y[right_idxs])\n",
    "        child_entropy = (n_l / n) * e_l + (n_r / n) * e_r\n",
    "        information_gain = parent_entropy - child_entropy\n",
    "        return information_gain\n",
    "\n",
    "    def _split(self, X_column, split_threshold):\n",
    "        left_idxs = np.argwhere(X_column <= split_threshold).flatten()\n",
    "        right_idxs = np.argwhere(X_column > split_threshold).flatten()\n",
    "        return left_idxs, right_idxs\n",
    "\n",
    "    def _entropy(self, y):\n",
    "        hist = np.bincount(y)\n",
    "        ps = hist / len(y)\n",
    "        return -np.sum([p * np.log2(p) for p in ps if p > 0])\n",
    "\n",
    "    def _most_common_label(self, y):\n",
    "        counter = Counter(y)\n",
    "        value = counter.most_common(1)[0][0]\n",
    "        return value"
   ]
  },
  {
   "cell_type": "code",
   "execution_count": 17,
   "metadata": {},
   "outputs": [],
   "source": [
    "clf = DecisionTree(max_depth=3)\n",
    "clf.fit(X_train, y_train)"
   ]
  },
  {
   "cell_type": "code",
   "execution_count": null,
   "metadata": {},
   "outputs": [
    {
     "name": "stdout",
     "output_type": "stream",
     "text": [
      "0.8447884036607088\n",
      "ROC-AUC 值: 0.7281382063485192\n",
      "精确率: 0.7555211158465711\n",
      "召回率: 0.5070202808112324\n"
     ]
    }
   ],
   "source": [
    "y_pred = clf.predict(X_test)\n",
    "print(np.mean(y_pred==y_test))\n",
    "from sklearn.metrics import precision_score, recall_score, roc_curve, auc\n",
    "\n",
    "precision = precision_score(y_test, y_pred)\n",
    "recall = recall_score(y_test, y_pred)\n",
    "fpr, tpr, _ = roc_curve(y_test, y_pred)\n",
    "roc_auc = auc(fpr, tpr)\n",
    "\n",
    "print(f\"ROC-AUC 值: {roc_auc}\")\n",
    "print(f'精确率: {precision}')\n",
    "print(f'召回率: {recall}')"
   ]
  },
  {
   "cell_type": "code",
   "execution_count": 19,
   "metadata": {},
   "outputs": [],
   "source": [
    "class RandomForest:\n",
    "    def __init__(self, n_trees=100, min_samples_split=2, max_depth=100, n_features=None):\n",
    "        self.n_trees = n_trees\n",
    "        self.min_samples_split = min_samples_split\n",
    "        self.max_depth = max_depth\n",
    "        self.n_features = n_features\n",
    "        self.trees = []\n",
    "\n",
    "    def fit(self, X, y):\n",
    "        self.trees = []\n",
    "        for _ in range(self.n_trees):\n",
    "            tree = DecisionTree(min_samples_split=self.min_samples_split, max_depth=self.max_depth, n_features=self.n_features)\n",
    "            X_sample, y_sample = self._bootstrap_samples(X, y)\n",
    "            tree.fit(X_sample, y_sample)\n",
    "            self.trees.append(tree)\n",
    "\n",
    "    def predict(self, X):\n",
    "        tree_predictions = np.array([tree.predict(X) for tree in self.trees])\n",
    "        tree_predictions = np.swapaxes(tree_predictions, 0, 1)\n",
    "        y_pred = [self._most_common_label(tree_pred) for tree_pred in tree_predictions]\n",
    "        return np.array(y_pred)\n",
    "\n",
    "    def _bootstrap_samples(self, X, y):\n",
    "        n_samples = X.shape[0]\n",
    "        idxs = np.random.choice(n_samples, n_samples, replace=True)\n",
    "        return X[idxs], y[idxs]\n",
    "\n",
    "    def _most_common_label(self, y):\n",
    "        counter = Counter(y)\n",
    "        value = counter.most_common(1)[0][0]\n",
    "        return value"
   ]
  },
  {
   "cell_type": "code",
   "execution_count": 21,
   "metadata": {},
   "outputs": [
    {
     "name": "stdout",
     "output_type": "stream",
     "text": [
      "0.8469381487623611\n",
      "ROC-AUC 值: 0.723170000382645\n",
      "精确率: 0.7816139767054908\n",
      "召回率: 0.48855954238169524\n"
     ]
    }
   ],
   "source": [
    "rf = RandomForest(n_trees=5, min_samples_split=2, max_depth=5, n_features=None)\n",
    "rf.fit(X_train, y_train)\n",
    "# 预测\n",
    "y_pred = rf.predict(X_test)\n",
    "print(np.mean(y_pred==y_test))\n",
    "from sklearn.metrics import precision_score, recall_score, roc_curve, auc\n",
    "\n",
    "precision = precision_score(y_test, y_pred)\n",
    "recall = recall_score(y_test, y_pred)\n",
    "fpr, tpr, _ = roc_curve(y_test, y_pred)\n",
    "roc_auc = auc(fpr, tpr)\n",
    "\n",
    "print(f\"ROC-AUC 值: {roc_auc}\")\n",
    "print(f'精确率: {precision}')\n",
    "print(f'召回率: {recall}')"
   ]
  }
 ],
 "metadata": {
  "kernelspec": {
   "display_name": "deep",
   "language": "python",
   "name": "python3"
  },
  "language_info": {
   "codemirror_mode": {
    "name": "ipython",
    "version": 3
   },
   "file_extension": ".py",
   "mimetype": "text/x-python",
   "name": "python",
   "nbconvert_exporter": "python",
   "pygments_lexer": "ipython3",
   "version": "3.12.4"
  }
 },
 "nbformat": 4,
 "nbformat_minor": 2
}
