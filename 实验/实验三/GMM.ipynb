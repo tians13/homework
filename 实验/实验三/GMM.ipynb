{
 "cells": [
  {
   "cell_type": "code",
   "execution_count": 2,
   "metadata": {},
   "outputs": [],
   "source": [
    "import numpy as np\n",
    "import pandas as pd\n",
    "from sklearn.model_selection import train_test_split\n",
    "from sklearn.metrics import silhouette_score, fowlkes_mallows_score,adjusted_rand_score,adjusted_mutual_info_score"
   ]
  },
  {
   "cell_type": "markdown",
   "metadata": {},
   "source": [
    "预处理方式与kmeans一致"
   ]
  },
  {
   "cell_type": "code",
   "execution_count": 3,
   "metadata": {},
   "outputs": [],
   "source": [
    "headers = [\n",
    "    'sepal length',\n",
    "    'sepal width',\n",
    "    'petal length',\n",
    "    'petal width',\n",
    "    'class'\n",
    "]\n",
    "data = pd.read_csv('data/iris.data',header=None)\n",
    "data.columns = headers\n",
    "class_map = {'Iris-setosa':0,'Iris-versicolor':1,'Iris-virginica':2}\n",
    "data['class'] = data['class'].map(class_map)\n",
    "X = data[['sepal length','petal length']].to_numpy().astype(np.float64)\n",
    "X_mean = np.mean(X,axis=0)\n",
    "X_std = np.std(X,axis=0)\n",
    "X = (X-X_mean)/X_std\n",
    "y = data['class'].to_numpy().astype(np.float64)\n",
    "X_train, X_test, y_train, y_test = train_test_split(X, y, test_size=0.3, random_state=1234)"
   ]
  },
  {
   "cell_type": "code",
   "execution_count": null,
   "metadata": {},
   "outputs": [],
   "source": [
    "# 计算多元高斯分布的概率\n",
    "def multivariate_normal_pdf(x, mean, cov):\n",
    "    n = len(mean)\n",
    "    \n",
    "    # 计算协方差矩阵的行列式和逆矩阵\n",
    "    det_cov = np.linalg.det(cov)\n",
    "    inv_cov = np.linalg.inv(cov)\n",
    "    \n",
    "    # 计算常数部分 (2π)^(n/2) * |Σ|^(1/2)\n",
    "    de = (2 * np.pi) ** (n / 2) * np.sqrt(det_cov)\n",
    "    \n",
    "    # 计算每个样本与均值的差\n",
    "    diff = x - mean  # diff 的形状是 (n_samples, n_features)\n",
    "    \n",
    "    # 对每个样本计算 Mahalanobis 距离：diff * inv_cov * diff.T\n",
    "    mahalanobis_dist = np.sum(np.dot(diff, inv_cov) * diff, axis=1)  # 结果是 (n_samples,)\n",
    "    \n",
    "    # 计算每个样本的概率密度\n",
    "    me = np.exp(-0.5 * mahalanobis_dist)\n",
    "    \n",
    "    # 返回PDF值\n",
    "    return me / de\n",
    "\n",
    "def gmm(X, k, max_iters=100, tol=1e-4):\n",
    "    n_samples, n_features = X.shape\n",
    "\n",
    "    # 初始化参数\n",
    "    np.random.seed(42)\n",
    "    means = X[np.random.choice(n_samples, k, replace=False)]  # 初始均值\n",
    "    covariances = np.array([np.eye(n_features)] * k)  # 初始协方差矩阵为单位矩阵\n",
    "    weights = np.ones(k) / k  # 初始化权重均匀分配\n",
    "\n",
    "    log_likelihoods = []\n",
    "\n",
    "    for i in range(max_iters):\n",
    "        # E步：计算责任度（每个样本属于各个高斯分布的概率）\n",
    "        responsibilities = np.zeros((n_samples, k))\n",
    "\n",
    "        for j in range(k):\n",
    "            responsibilities[:, j] = weights[j] * multivariate_normal_pdf(X, mean=means[j], cov=covariances[j])\n",
    "\n",
    "        responsibilities /= responsibilities.sum(axis=1, keepdims=True)\n",
    "\n",
    "        # M步：更新参数（均值、协方差矩阵和权重）\n",
    "        N_k = responsibilities.sum(axis=0)  # 每个高斯分布的总责任度（也就是样本的数量）\n",
    "\n",
    "        means = (responsibilities.T @ X) / N_k[:, np.newaxis]  # 更新均值\n",
    "        for j in range(k):\n",
    "            diff = X - means[j]\n",
    "            covariances[j] = (responsibilities[:, j][:, np.newaxis] * diff).T @ diff / N_k[j]  # 更新协方差矩阵\n",
    "\n",
    "        weights = N_k / n_samples  # 更新权重\n",
    "\n",
    "        # 计算对数似然\n",
    "        log_likelihood = np.sum(np.log(np.sum(responsibilities, axis=1)))\n",
    "        log_likelihoods.append(log_likelihood)\n",
    "\n",
    "        # 检查对数似然是否收敛\n",
    "        if i > 0 and abs(log_likelihood - log_likelihoods[i-1]) < tol:\n",
    "            print(f\"Converged after {i+1} iterations.\")\n",
    "            break\n",
    "\n",
    "    # 根据责任度分配每个样本的标签\n",
    "    labels = np.argmax(responsibilities, axis=1)\n",
    "\n",
    "    return means, covariances, weights, labels"
   ]
  },
  {
   "cell_type": "code",
   "execution_count": 41,
   "metadata": {},
   "outputs": [
    {
     "name": "stdout",
     "output_type": "stream",
     "text": [
      "Converged after 2 iterations.\n"
     ]
    }
   ],
   "source": [
    "means,covs,w,l = gmm(X_train,2)"
   ]
  },
  {
   "cell_type": "code",
   "execution_count": 42,
   "metadata": {},
   "outputs": [],
   "source": [
    "def predict(X, means, covariances, weights):\n",
    "    n_samples = X.shape[0]\n",
    "    k = len(weights)\n",
    "    responsibilities = np.zeros((n_samples, k))\n",
    "    \n",
    "    for i in range(k):\n",
    "        norm = multivariate_normal_pdf(X,means[i], covariances[i])\n",
    "        responsibilities[:, i] = weights[i] * norm\n",
    "    \n",
    "    responsibilities /= responsibilities.sum(axis=1, keepdims=True)\n",
    "    labels = np.argmax(responsibilities, axis=1)\n",
    "    \n",
    "    return labels"
   ]
  },
  {
   "cell_type": "code",
   "execution_count": 39,
   "metadata": {},
   "outputs": [],
   "source": [
    "y_pred = predict(X_test,means,covs,w)"
   ]
  },
  {
   "cell_type": "code",
   "execution_count": 44,
   "metadata": {},
   "outputs": [
    {
     "name": "stdout",
     "output_type": "stream",
     "text": [
      "GMM:\n",
      "Silhouette Coefficient: 0.3946867184083424\n",
      "Fowlkes-Mallows Score: 0.573273174155959\n",
      "Adjusted Rand Index: 0.1603924824298985\n",
      "Adjusted Mutual Information: 0.2353402560159457\n"
     ]
    }
   ],
   "source": [
    "print('GMM:')\n",
    "silhouette_avg = silhouette_score(X_test, y_pred)\n",
    "print(f'Silhouette Coefficient: {silhouette_avg}')\n",
    "\n",
    "fmi = fowlkes_mallows_score(y_test, y_pred)\n",
    "print(f'Fowlkes-Mallows Score: {fmi}')\n",
    "\n",
    "ari = adjusted_rand_score(y_test, y_pred)\n",
    "print(f'Adjusted Rand Index: {ari}')\n",
    "\n",
    "ami = adjusted_mutual_info_score(y_test, y_pred)\n",
    "print(f'Adjusted Mutual Information: {ami}')"
   ]
  }
 ],
 "metadata": {
  "kernelspec": {
   "display_name": "deep",
   "language": "python",
   "name": "python3"
  },
  "language_info": {
   "codemirror_mode": {
    "name": "ipython",
    "version": 3
   },
   "file_extension": ".py",
   "mimetype": "text/x-python",
   "name": "python",
   "nbconvert_exporter": "python",
   "pygments_lexer": "ipython3",
   "version": "3.12.4"
  }
 },
 "nbformat": 4,
 "nbformat_minor": 2
}
