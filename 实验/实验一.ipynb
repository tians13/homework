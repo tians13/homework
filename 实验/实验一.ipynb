{
 "cells": [
  {
   "cell_type": "code",
   "execution_count": null,
   "metadata": {},
   "outputs": [],
   "source": [
    "import pandas as pd\n",
    "import numpy as np"
   ]
  },
  {
   "cell_type": "code",
   "execution_count": 2,
   "metadata": {},
   "outputs": [],
   "source": [
    "data = pd.read_excel('学生成绩单.xls',header=0)"
   ]
  },
  {
   "cell_type": "code",
   "execution_count": 9,
   "metadata": {},
   "outputs": [],
   "source": [
    "df = data.drop(['Unnamed: 8','Unnamed: 9'],axis=1)[:68]"
   ]
  },
  {
   "cell_type": "code",
   "execution_count": 10,
   "metadata": {},
   "outputs": [
    {
     "data": {
      "text/html": [
       "<div>\n",
       "<style scoped>\n",
       "    .dataframe tbody tr th:only-of-type {\n",
       "        vertical-align: middle;\n",
       "    }\n",
       "\n",
       "    .dataframe tbody tr th {\n",
       "        vertical-align: top;\n",
       "    }\n",
       "\n",
       "    .dataframe thead th {\n",
       "        text-align: right;\n",
       "    }\n",
       "</style>\n",
       "<table border=\"1\" class=\"dataframe\">\n",
       "  <thead>\n",
       "    <tr style=\"text-align: right;\">\n",
       "      <th></th>\n",
       "      <th>考号</th>\n",
       "      <th>姓名</th>\n",
       "      <th>语文</th>\n",
       "      <th>数学</th>\n",
       "      <th>英语</th>\n",
       "      <th>总分</th>\n",
       "      <th>班名次</th>\n",
       "      <th>升降幅度</th>\n",
       "    </tr>\n",
       "  </thead>\n",
       "  <tbody>\n",
       "    <tr>\n",
       "      <th>0</th>\n",
       "      <td>70605.0</td>\n",
       "      <td>杨璐</td>\n",
       "      <td>131</td>\n",
       "      <td>143</td>\n",
       "      <td>144</td>\n",
       "      <td>418.0</td>\n",
       "      <td>1.0</td>\n",
       "      <td>↑4</td>\n",
       "    </tr>\n",
       "    <tr>\n",
       "      <th>1</th>\n",
       "      <td>70603.0</td>\n",
       "      <td>王雪</td>\n",
       "      <td>131</td>\n",
       "      <td>135</td>\n",
       "      <td>144</td>\n",
       "      <td>410.0</td>\n",
       "      <td>2.0</td>\n",
       "      <td>↑1</td>\n",
       "    </tr>\n",
       "    <tr>\n",
       "      <th>2</th>\n",
       "      <td>70609.0</td>\n",
       "      <td>韩林霖</td>\n",
       "      <td>127</td>\n",
       "      <td>139</td>\n",
       "      <td>142</td>\n",
       "      <td>408.0</td>\n",
       "      <td>3.0</td>\n",
       "      <td>↑6</td>\n",
       "    </tr>\n",
       "    <tr>\n",
       "      <th>3</th>\n",
       "      <td>70601.0</td>\n",
       "      <td>沙龙逸</td>\n",
       "      <td>123</td>\n",
       "      <td>148</td>\n",
       "      <td>136</td>\n",
       "      <td>407.0</td>\n",
       "      <td>4.0</td>\n",
       "      <td>↓3</td>\n",
       "    </tr>\n",
       "    <tr>\n",
       "      <th>4</th>\n",
       "      <td>70606.0</td>\n",
       "      <td>李鉴学</td>\n",
       "      <td>126</td>\n",
       "      <td>135</td>\n",
       "      <td>140</td>\n",
       "      <td>401.0</td>\n",
       "      <td>5.0</td>\n",
       "      <td>↑1</td>\n",
       "    </tr>\n",
       "    <tr>\n",
       "      <th>...</th>\n",
       "      <td>...</td>\n",
       "      <td>...</td>\n",
       "      <td>...</td>\n",
       "      <td>...</td>\n",
       "      <td>...</td>\n",
       "      <td>...</td>\n",
       "      <td>...</td>\n",
       "      <td>...</td>\n",
       "    </tr>\n",
       "    <tr>\n",
       "      <th>63</th>\n",
       "      <td>70662.0</td>\n",
       "      <td>赵森</td>\n",
       "      <td>90</td>\n",
       "      <td>29</td>\n",
       "      <td>64</td>\n",
       "      <td>183.0</td>\n",
       "      <td>64.0</td>\n",
       "      <td>↓2</td>\n",
       "    </tr>\n",
       "    <tr>\n",
       "      <th>64</th>\n",
       "      <td>70663.0</td>\n",
       "      <td>满朝升</td>\n",
       "      <td>78</td>\n",
       "      <td>45</td>\n",
       "      <td>47</td>\n",
       "      <td>170.0</td>\n",
       "      <td>65.0</td>\n",
       "      <td>↓2</td>\n",
       "    </tr>\n",
       "    <tr>\n",
       "      <th>65</th>\n",
       "      <td>70658.0</td>\n",
       "      <td>李忠浩</td>\n",
       "      <td>86</td>\n",
       "      <td>32</td>\n",
       "      <td>46</td>\n",
       "      <td>164.0</td>\n",
       "      <td>66.0</td>\n",
       "      <td>↓8</td>\n",
       "    </tr>\n",
       "    <tr>\n",
       "      <th>66</th>\n",
       "      <td>70664.0</td>\n",
       "      <td>侯禹志</td>\n",
       "      <td>75</td>\n",
       "      <td>23</td>\n",
       "      <td>34</td>\n",
       "      <td>132.0</td>\n",
       "      <td>67.0</td>\n",
       "      <td>↓3</td>\n",
       "    </tr>\n",
       "    <tr>\n",
       "      <th>67</th>\n",
       "      <td>70665.0</td>\n",
       "      <td>尹鸿涛</td>\n",
       "      <td>66</td>\n",
       "      <td>23</td>\n",
       "      <td>34</td>\n",
       "      <td>123.0</td>\n",
       "      <td>68.0</td>\n",
       "      <td>↓3</td>\n",
       "    </tr>\n",
       "  </tbody>\n",
       "</table>\n",
       "<p>68 rows × 8 columns</p>\n",
       "</div>"
      ],
      "text/plain": [
       "         考号   姓名   语文   数学   英语     总分   班名次 升降幅度\n",
       "0   70605.0   杨璐  131  143  144  418.0   1.0   ↑4\n",
       "1   70603.0   王雪  131  135  144  410.0   2.0   ↑1\n",
       "2   70609.0  韩林霖  127  139  142  408.0   3.0   ↑6\n",
       "3   70601.0  沙龙逸  123  148  136  407.0   4.0   ↓3\n",
       "4   70606.0  李鉴学  126  135  140  401.0   5.0   ↑1\n",
       "..      ...  ...  ...  ...  ...    ...   ...  ...\n",
       "63  70662.0   赵森   90   29   64  183.0  64.0   ↓2\n",
       "64  70663.0  满朝升   78   45   47  170.0  65.0   ↓2\n",
       "65  70658.0  李忠浩   86   32   46  164.0  66.0   ↓8\n",
       "66  70664.0  侯禹志   75   23   34  132.0  67.0   ↓3\n",
       "67  70665.0  尹鸿涛   66   23   34  123.0  68.0   ↓3\n",
       "\n",
       "[68 rows x 8 columns]"
      ]
     },
     "execution_count": 10,
     "metadata": {},
     "output_type": "execute_result"
    }
   ],
   "source": [
    "df"
   ]
  },
  {
   "cell_type": "code",
   "execution_count": 18,
   "metadata": {},
   "outputs": [],
   "source": [
    "total_data = df[['语文','数学','英语']]"
   ]
  },
  {
   "cell_type": "code",
   "execution_count": 24,
   "metadata": {},
   "outputs": [],
   "source": [
    "total_mean = total_data.mean()\n",
    "cov = total_data.cov()\n",
    "total_mean = np.array(total_mean)\n",
    "cov = np.array(cov)"
   ]
  },
  {
   "cell_type": "code",
   "execution_count": 26,
   "metadata": {},
   "outputs": [
    {
     "name": "stdout",
     "output_type": "stream",
     "text": [
      "语文均值：108.0,方差：210.80597014925374\n",
      "数学均值：102.82352941176471,方差：1115.281826163301\n",
      "英语均值：109.0,方差：917.4626865671642\n"
     ]
    }
   ],
   "source": [
    "print(f'语文均值：{total_mean[0]},方差：{df['语文'].var()}')\n",
    "print(f'数学均值：{total_mean[1]},方差：{df['数学'].var()}')\n",
    "print(f'英语均值：{total_mean[2]},方差：{df['英语'].var()}')"
   ]
  },
  {
   "cell_type": "code",
   "execution_count": 31,
   "metadata": {},
   "outputs": [
    {
     "name": "stdout",
     "output_type": "stream",
     "text": [
      "多维高斯模型的均值向量：[108.0 102.82352941176471 109.0] \n",
      "协方差矩阵:\n",
      "[[ 210.80597015  392.20895522  387.20895522]\n",
      " [ 392.20895522 1115.28182616  820.71641791]\n",
      " [ 387.20895522  820.71641791  917.46268657]]\n"
     ]
    }
   ],
   "source": [
    "print(f'多维高斯模型的均值向量：{total_mean} \\n协方差矩阵:\\n{cov}')"
   ]
  }
 ],
 "metadata": {
  "kernelspec": {
   "display_name": "deep",
   "language": "python",
   "name": "python3"
  },
  "language_info": {
   "codemirror_mode": {
    "name": "ipython",
    "version": 3
   },
   "file_extension": ".py",
   "mimetype": "text/x-python",
   "name": "python",
   "nbconvert_exporter": "python",
   "pygments_lexer": "ipython3",
   "version": "3.12.4"
  }
 },
 "nbformat": 4,
 "nbformat_minor": 2
}
