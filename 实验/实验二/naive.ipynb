{
 "cells": [
  {
   "cell_type": "code",
   "execution_count": 1,
   "metadata": {},
   "outputs": [],
   "source": [
    "import numpy as np\n",
    "import pandas as pd"
   ]
  },
  {
   "cell_type": "markdown",
   "metadata": {},
   "source": [
    "数据预处理与logistic回归中是一样的"
   ]
  },
  {
   "cell_type": "code",
   "execution_count": 2,
   "metadata": {},
   "outputs": [],
   "source": [
    "headers = [\n",
    "    \"age\",\n",
    "    \"workclass\",\n",
    "    \"fnlwgt\",\n",
    "    \"education\",\n",
    "    \"education-num\",\n",
    "    \"marital-status\",\n",
    "    \"occupation\",\n",
    "    \"relationship\",\n",
    "    \"race\",\n",
    "    \"sex\",\n",
    "    \"capital-gain\",\n",
    "    \"capital-loss\",\n",
    "    \"hours-per-week\",\n",
    "    \"native-country\",\n",
    "    'income'\n",
    "]\n",
    "train_data = pd.read_csv('adult.data',header=None)\n",
    "test_data = pd.read_csv('adult.test',header=None)\n",
    "train_data.columns = headers\n",
    "test_data.columns = headers\n",
    "income_map = {\n",
    "    ' >50K': 1,\n",
    "    ' <=50K': 0\n",
    "}\n",
    "train_data['income'] = train_data['income'].map(income_map)\n",
    "income_map = {\n",
    "   ' >50K.': 1,\n",
    "   ' <=50K.': 0\n",
    "}\n",
    "test_data['income'] = test_data['income'].map(income_map)\n",
    "# 筛选出类型为 object 的列\n",
    "object_columns = train_data.select_dtypes(include=['object']).columns\n",
    "# 对这些列应用独热编码\n",
    "train_data = pd.get_dummies(train_data, columns=object_columns)\n",
    "test_data = pd.get_dummies(test_data,columns=object_columns)\n",
    "new_column = pd.Series(False, index=test_data.index)\n",
    "new_column.name = 'native-country_ Holand-Netherlands'\n",
    "test_data.insert(82,new_column.name,new_column)\n",
    "X_train,y_train = train_data.drop(columns='income').to_numpy().astype(np.float64),train_data['income'].to_numpy().astype(np.float64)\n",
    "X_test,y_test = test_data.drop(columns='income').to_numpy().astype(np.float64),test_data['income'].to_numpy().astype(np.float64)\n",
    "y_train = y_train.reshape(-1,1)\n",
    "y_test = y_test.reshape(-1,1)"
   ]
  },
  {
   "cell_type": "code",
   "execution_count": 3,
   "metadata": {},
   "outputs": [
    {
     "name": "stdout",
     "output_type": "stream",
     "text": [
      "(32561, 108) (32561, 1)\n",
      "(16281, 108) (16281, 1)\n"
     ]
    }
   ],
   "source": [
    "print(X_train.shape,y_train.shape)\n",
    "print(X_test.shape,y_test.shape)"
   ]
  },
  {
   "cell_type": "markdown",
   "metadata": {},
   "source": [
    "模型定义"
   ]
  },
  {
   "cell_type": "code",
   "execution_count": 4,
   "metadata": {},
   "outputs": [],
   "source": [
    "def likelihood(X,mean,var):\n",
    "    ep = 1e-10\n",
    "    res = 1/((np.sqrt(2*np.pi*var)+ep))*np.exp(-((X-mean)**2)/(2*var**2+ep))\n",
    "    return np.clip(res,ep,1-ep)\n",
    "def naive(X,y):\n",
    "    y = y.reshape(-1)\n",
    "    y_type = np.unique(y)\n",
    "    m = len(y_type)\n",
    "    # 均值及方差\n",
    "    means = np.zeros((m,X.shape[1]))\n",
    "    var = np.zeros((m,X.shape[1]))\n",
    "    # 先验概率\n",
    "    priors = np.zeros(m)\n",
    "\n",
    "    for i,label in enumerate(y_type):\n",
    "        # 获取对应类的所有样本\n",
    "        Xi = X[y==label]\n",
    "        # 先计算均值和方差\n",
    "        means[i] = np.mean(Xi,axis=0)\n",
    "        var[i] = np.mean(Xi,axis=0)\n",
    "        # 计算先验概率\n",
    "        priors[i] = len(Xi)/len(X)\n",
    "    return means,var,priors,y_type\n",
    "# 预测函数\n",
    "def predict(X,means,var,priors,y_type):\n",
    "    y_ = []\n",
    "    for i,label in enumerate(y_type):\n",
    "        prior = np.log(priors[i])  # 获取先验概率\n",
    "        likelihood_i = np.sum(np.log(likelihood(X, means[i], var[i])), axis=1)\n",
    "        posterior = prior + likelihood_i  # 计算后验概率\n",
    "        y_.append(posterior)\n",
    "\n",
    "    y_ = np.array(y_).T\n",
    "    y_hat = y_type[np.argmax(y_, axis=1)]  # 根据计算出的概率，进行分类\n",
    "    return y_hat"
   ]
  },
  {
   "cell_type": "markdown",
   "metadata": {},
   "source": [
    "得到朴素贝叶斯模型的参数"
   ]
  },
  {
   "cell_type": "code",
   "execution_count": 5,
   "metadata": {},
   "outputs": [],
   "source": [
    "means,var,priors,y_type = naive(X_train,y_train)"
   ]
  },
  {
   "cell_type": "markdown",
   "metadata": {},
   "source": [
    "计算准确率"
   ]
  },
  {
   "cell_type": "code",
   "execution_count": 6,
   "metadata": {},
   "outputs": [
    {
     "name": "stdout",
     "output_type": "stream",
     "text": [
      "准确率:0.6144947427870079\n"
     ]
    }
   ],
   "source": [
    "y_pred = predict(X_test, means, var, priors, y_type)\n",
    "accuracy = np.mean(y_pred == y_test)\n",
    "print(f'准确率:{accuracy}')"
   ]
  },
  {
   "cell_type": "code",
   "execution_count": null,
   "metadata": {},
   "outputs": [
    {
     "name": "stdout",
     "output_type": "stream",
     "text": [
      "ROC-AUC 值: 0.7309306678660392\n",
      "精确率: 0.5307141306707185\n",
      "召回率: 0.6357254290171607\n"
     ]
    }
   ],
   "source": [
    "from sklearn.metrics import precision_score, recall_score, roc_curve, auc\n",
    "\n",
    "precision = precision_score(y_test, y_pred)\n",
    "recall = recall_score(y_test, y_pred)\n",
    "fpr, tpr, _ = roc_curve(y_test, y_pred)\n",
    "roc_auc = auc(fpr, tpr)\n",
    "\n",
    "print(f\"ROC-AUC 值: {roc_auc}\")\n",
    "print(f'精确率: {precision}')\n",
    "print(f'召回率: {recall}')"
   ]
  }
 ],
 "metadata": {
  "kernelspec": {
   "display_name": "deep",
   "language": "python",
   "name": "python3"
  },
  "language_info": {
   "codemirror_mode": {
    "name": "ipython",
    "version": 3
   },
   "file_extension": ".py",
   "mimetype": "text/x-python",
   "name": "python",
   "nbconvert_exporter": "python",
   "pygments_lexer": "ipython3",
   "version": "3.12.4"
  }
 },
 "nbformat": 4,
 "nbformat_minor": 2
}
